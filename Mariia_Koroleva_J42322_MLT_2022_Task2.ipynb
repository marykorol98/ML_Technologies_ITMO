{
  "nbformat": 4,
  "nbformat_minor": 0,
  "metadata": {
    "colab": {
      "name": "Mariia_Koroleva_J42322_MLT_2022_Task2.ipynb",
      "provenance": [],
      "collapsed_sections": []
    },
    "kernelspec": {
      "name": "python3",
      "display_name": "Python 3"
    },
    "language_info": {
      "name": "python"
    }
  },
  "cells": [
    {
      "cell_type": "markdown",
      "source": [
        "1. Develop yourself using numpy library: \n",
        "a) a function to implement gradient descent (GD) algorithm \n",
        "b) Adam's optimization algorithm \n",
        "for a function of two variables f(x,y).\n",
        "2. Come up with a function of two variables of an arbitrary form and implement the search for its minimum using those implemented in p.1 functions - a) and b).\n",
        "3. Illustrate the process of finding an extremum in the form of a graph of the dependence of the value of the difference between two successive approximations of the solution (x_next – x_prev) on the iteration number N.\n"
      ],
      "metadata": {
        "id": "mDlNOHB2PYvy"
      }
    },
    {
      "cell_type": "code",
      "execution_count": 19,
      "metadata": {
        "id": "cXMfCtqtPMEd"
      },
      "outputs": [],
      "source": [
        "import numpy as np\n",
        "import math\n",
        "import matplotlib.pyplot as plt"
      ]
    },
    {
      "cell_type": "markdown",
      "source": [
        "# Part 1"
      ],
      "metadata": {
        "id": "Ry49iUXdTg45"
      }
    },
    {
      "cell_type": "markdown",
      "source": [
        "## a) GD algorithm"
      ],
      "metadata": {
        "id": "Lu10VCU7TnEp"
      }
    },
    {
      "cell_type": "code",
      "source": [
        "# This module will help us to represent the function in semi-text form\n",
        "from sympy import Symbol, lambdify"
      ],
      "metadata": {
        "id": "T30kyesZfhdB"
      },
      "execution_count": 20,
      "outputs": []
    },
    {
      "cell_type": "code",
      "source": [
        "def partial_dz(func, x_0, y_0, name):\n",
        "    '''\n",
        "    This function returns a partial derivative in a given point (2-dimensional case).\n",
        "    \n",
        "    Parameters\n",
        "    --------\n",
        "    func : function\n",
        "        The function f(x, y)\n",
        "    x_0, y_0: floats\n",
        "        a point at which the derivative is taken\n",
        "    name: string ('x'|'y')\n",
        "        the name of the variable over which the partial derivative is taken\n",
        "\n",
        "    Returns the numerical value of the partial derivative at a point.\n",
        "    '''\n",
        "    if name == 'x':\n",
        "        x = Symbol('x')\n",
        "        y = Symbol('y')\n",
        "        dzdx = func(x,y_0).diff(x)\n",
        "        dzdx = lambdify(x, dzdx, 'numpy')\n",
        "        return dzdx(x_0)\n",
        "    elif name == 'y':\n",
        "        x = Symbol('x')\n",
        "        y = Symbol('y')\n",
        "        dzdy = func(x_0, y).diff(y)\n",
        "        dzdy = lambdify(y, dzdy, 'numpy')\n",
        "        return dzdy(y_0)"
      ],
      "metadata": {
        "id": "hmMEDJkuf4wY"
      },
      "execution_count": 21,
      "outputs": []
    },
    {
      "cell_type": "code",
      "source": [
        "# gradient vector [df/dx, df/dy]\n",
        "def grad_vector(func, x_0, y_0):\n",
        "    return np.array([partial_dz(func, x_0, y_0, 'x'), partial_dz(func, x_0 , y_0, 'y')])"
      ],
      "metadata": {
        "id": "Z2a4OvV2U5IQ"
      },
      "execution_count": 5,
      "outputs": []
    },
    {
      "cell_type": "code",
      "source": [
        "# The GD algorithm function\n",
        "def grad_descent(func, x_prev, learn_rate):\n",
        "    '''\n",
        "    The GD algorithm function\n",
        "    Params\n",
        "    ------\n",
        "    func: function\n",
        "       The function f(x, y)\n",
        "    x_prev : array\n",
        "       The starting point for the first descent\n",
        "    learn_rate : float\n",
        "        Step size of gradient descent\n",
        "\n",
        "    Returns\n",
        "    -------\n",
        "    x_next: array\n",
        "      The point where the f(x,y) reaches its minimum\n",
        "    func(x_next[0], x_next[1]): float\n",
        "      The function minimum value\n",
        "    grad_itter: integer\n",
        "      Number of gradient descent iterations\n",
        "    seq_x, seq_y: arrays\n",
        "      Intermediate points \n",
        "    '''\n",
        "    \n",
        "    epsilon = 0.0001\n",
        "    grad_itter = 1\n",
        "    \n",
        "    seq_x = []\n",
        "    seq_y = []\n",
        "\n",
        "    x_next = x_prev - learn_rate*grad_vector(func, x_prev[0],x_prev[1])\n",
        "    seq_x = np.append(seq_x, x_next[0])\n",
        "    seq_y = np.append(seq_y, x_next[1])\n",
        "    \n",
        "    while np.linalg.norm(np.subtract(x_next,x_prev)) > epsilon:\n",
        "        \n",
        "        x_prev = x_next\n",
        "        x_next = x_prev - learn_rate*grad_vector(func, x_prev[0],x_prev[1])\n",
        "        grad_itter += 1\n",
        "        \n",
        "        seq_x = np.append(seq_x, x_next[0])\n",
        "        seq_y = np.append(seq_y, x_next[1])\n",
        "    \n",
        "    return (x_next, func(x_next[0], x_next[1]), grad_itter, seq_x,seq_y)"
      ],
      "metadata": {
        "id": "bnz0tUZKTtZd"
      },
      "execution_count": 9,
      "outputs": []
    },
    {
      "cell_type": "code",
      "source": [
        "# Stochastic gradient descent\n",
        "\n",
        "def grad_descent(func, x_prev, learn_rate):\n",
        "    '''\n",
        "    The GD algorithm function\n",
        "    Params\n",
        "    ------\n",
        "    func: function\n",
        "       The function f(x, y)\n",
        "    x_prev : array\n",
        "       The starting point for the first descent\n",
        "    learn_rate : float\n",
        "        Step size of gradient descent\n",
        "\n",
        "    Returns\n",
        "    -------\n",
        "    x_next: array\n",
        "      The point where the f(x,y) reaches its minimum\n",
        "    func(x_next[0], x_next[1]): float\n",
        "      The function minimum value\n",
        "    grad_itter: integer\n",
        "      Number of gradient descent iterations\n",
        "    seq_x, seq_y: arrays\n",
        "      Intermediate points \n",
        "    '''\n",
        "    \n",
        "    epsilon = 0.0001\n",
        "    grad_itter = 1\n",
        "    \n",
        "    seq_x = []\n",
        "    seq_y = []\n",
        "\n",
        "    x_next = x_prev - learn_rate*grad_vector(func, x_prev[0],x_prev[1])\n",
        "    seq_x = np.append(seq_x, x_next[0])\n",
        "    seq_y = np.append(seq_y, x_next[1])\n",
        "    \n",
        "    while np.linalg.norm(np.subtract(x_next,x_prev)) > epsilon:\n",
        "        \n",
        "        x_prev = x_next\n",
        "        x_next = x_prev - learn_rate*grad_vector(func, x_prev[0],x_prev[1])\n",
        "        grad_itter += 1\n",
        "        \n",
        "        seq_x = np.append(seq_x, x_next[0])\n",
        "        seq_y = np.append(seq_y, x_next[1])\n",
        "    \n",
        "    return (x_next, func(x_next[0], x_next[1]), grad_itter, seq_x,seq_y)"
      ],
      "metadata": {
        "id": "TnVThwBm_3b6"
      },
      "execution_count": null,
      "outputs": []
    },
    {
      "cell_type": "markdown",
      "source": [
        "## b) Adam's optimization algorithm"
      ],
      "metadata": {
        "id": "fTt-ISmJm09J"
      }
    },
    {
      "cell_type": "code",
      "source": [
        "def adam(func, x_prev, learn_rate=0.001, betta1=0.9, betta2=0.999, delta=10**(-8)):\n",
        "\n",
        "    '''\n",
        "    The GD algorithm function\n",
        "    Params\n",
        "    ------\n",
        "    func: function\n",
        "       The function f(x, y)\n",
        "    x_prev : array\n",
        "       The starting point for the first iteration\n",
        "    learn_rate : float\n",
        "        Step size\n",
        "    betta1, betta2, delta: floats\n",
        "        Special Adam algorithm parameters\n",
        "\n",
        "    Returns\n",
        "    -------\n",
        "    x_next: array\n",
        "      The point where the f(x,y) reaches its minimum\n",
        "    func(x_next[0], x_next[1]): float\n",
        "      The function minimum value\n",
        "    grad_itter: integer\n",
        "      Number of gradient descent iterations\n",
        "    seq_x, seq_y: arrays\n",
        "      Intermediate points \n",
        "    '''\n",
        "\n",
        "    #1st and 2nd momemt variables\n",
        "    s = np.array([0, 0]) \n",
        "    r = np.array([0, 0]) \n",
        "\n",
        "    epsilon = 0.0001\n",
        "    t = 1\n",
        "\n",
        "    seq_x = []\n",
        "    seq_y = []\n",
        "\n",
        "    # Compute gradient\n",
        "    grad = grad_vector(func, x_prev[0],x_prev[1])\n",
        "    # Update biased first moment estimate\n",
        "    s = betta1 * s + (1 - betta1) * grad\n",
        "    # Update biased second moment estimate\n",
        "    r = betta2 * r + (1 - betta2) * np.power(grad, 2)\n",
        "    # Correct bias in first momemt\n",
        "    s_corr = s/(1 - betta1**t)\n",
        "    # Correct bias in second moment\n",
        "    r_corr = r/(1 - betta2**t)\n",
        "    # Compute and apply update\n",
        "    x_next = x_prev - learn_rate*s_corr/(r_corr**0.5 + delta)\n",
        "\n",
        "    seq_x = np.append(seq_x, x_next[0])\n",
        "    seq_y = np.append(seq_y, x_next[1])\n",
        "\n",
        "\n",
        "    while np.linalg.norm(np.subtract(x_next,x_prev)) > epsilon:\n",
        "        grad = grad_vector(func, x_prev[0],x_prev[1])\n",
        "        t+=1\n",
        "        s = betta1 * s + (1 - betta1) * grad\n",
        "        r = betta2 * r + (1 - betta2) * np.power(grad, 2)\n",
        "        s_corr = s/(1 - betta1**t)\n",
        "        r_corr = r/(1 - betta2**t)\n",
        "        x_prev = x_next\n",
        "        x_next = x_prev - learn_rate*s_corr/(np.sqrt(r_corr) + delta)\n",
        "\n",
        "        seq_x = np.append(seq_x, x_next[0])\n",
        "        seq_y = np.append(seq_y, x_next[1])\n",
        "\n",
        "    return (x_next, func(x_next[0], x_next[1]), t, seq_x,seq_y)"
      ],
      "metadata": {
        "id": "S8J_WLT7ms6h"
      },
      "execution_count": 28,
      "outputs": []
    },
    {
      "cell_type": "markdown",
      "source": [
        "# Part 2"
      ],
      "metadata": {
        "id": "GiRqIl03iGU2"
      }
    },
    {
      "cell_type": "code",
      "source": [
        "# Coming up with an arbitrary function\n",
        "func = lambda x, y: x**4 + 2*y**2 + 1"
      ],
      "metadata": {
        "id": "fDEJRtCLiKHT"
      },
      "execution_count": 10,
      "outputs": []
    },
    {
      "cell_type": "markdown",
      "source": [
        "## Searching for the minimum with gradient descent"
      ],
      "metadata": {
        "id": "ahmVlLvYiocu"
      }
    },
    {
      "cell_type": "code",
      "source": [
        "min_point, fmin, num_iters, seq_x, seq_y = grad_descent(func, [1, 1], 0.3)\n",
        "\n",
        "print('Minimum (x,y) from gradient descent: %s' %min_point)\n",
        "print('Fmin = ', fmin)\n",
        "print('Number of iterations: ', num_iters)"
      ],
      "metadata": {
        "colab": {
          "base_uri": "https://localhost:8080/"
        },
        "id": "FkJcH0PTi3MY",
        "outputId": "fd62fec5-86b2-4646-b107-66420c904238"
      },
      "execution_count": 40,
      "outputs": [
        {
          "output_type": "stream",
          "name": "stdout",
          "text": [
            "Minimum (x,y) from gradient descent: [-4.35457827e-002  4.11376139e-146]\n",
            "Fmin =  1.0000035957078948\n",
            "Number of iterations:  208\n"
          ]
        }
      ]
    },
    {
      "cell_type": "markdown",
      "source": [
        "## Searching for the minimum with Adam's optimization"
      ],
      "metadata": {
        "id": "9w_bH8bHkuRk"
      }
    },
    {
      "cell_type": "code",
      "source": [
        "min_point_A, fmin_A, num_iters_A, seq_x_A, seq_y_A = adam(func, [1, 1], 0.05)\n",
        "\n",
        "print('Minimum (x,y) from gradient descent: %s' %min_point_A)\n",
        "print('Fmin = ', fmin_A)\n",
        "print('Number of iterations: ', num_iters_A)"
      ],
      "metadata": {
        "colab": {
          "base_uri": "https://localhost:8080/"
        },
        "id": "IjhIh4RXJN9w",
        "outputId": "cbe32465-8bc4-4939-ed1e-aab6e7bd2988"
      },
      "execution_count": 44,
      "outputs": [
        {
          "output_type": "stream",
          "name": "stdout",
          "text": [
            "Minimum (x,y) from gradient descent: [ 0.03373084 -0.01353151]\n",
            "Fmin =  1.0003674979987918\n",
            "Number of iterations:  93\n"
          ]
        }
      ]
    },
    {
      "cell_type": "markdown",
      "source": [
        "# Part 3"
      ],
      "metadata": {
        "id": "N8kwB0ADljU_"
      }
    },
    {
      "cell_type": "markdown",
      "source": [
        "## GD"
      ],
      "metadata": {
        "id": "yYyhADvApr6z"
      }
    },
    {
      "cell_type": "code",
      "source": [
        "fig = plt.figure(1, figsize = (15, 5))\n",
        "# Number of iterations\n",
        "N = np.arange(1, num_iters, 1)\n",
        "# Array of x coordinates difference per every iteration\n",
        "x = np.array([(seq_x[i+1] - seq_x[i]) for i in range(num_iters - 1)]) \n",
        "# Array of y coordinates difference per every iteration\n",
        "y = np.array([(seq_y[i+1] - seq_y[i]) for i in range(num_iters - 1)])\n",
        "\n",
        "ax = fig.add_subplot(122, projection='3d')\n",
        "# Building a scatterplot to show the dependence: the bigger N - the smaller the gradients descent\n",
        "ax.scatter(x, y, N)\n",
        "ax.set_xlabel(\"x_next – x_prev\")\n",
        "ax.set_ylabel(\"y_next – y_prev\")\n",
        "ax.set_zlabel('N')\n"
      ],
      "metadata": {
        "colab": {
          "base_uri": "https://localhost:8080/",
          "height": 321
        },
        "id": "2dacx2aqqoTA",
        "outputId": "4c8f833d-cdd3-4d31-c389-c1429d9b1f95"
      },
      "execution_count": 12,
      "outputs": [
        {
          "output_type": "execute_result",
          "data": {
            "text/plain": [
              "Text(0.5, 0, 'N')"
            ]
          },
          "metadata": {},
          "execution_count": 12
        },
        {
          "output_type": "display_data",
          "data": {
            "text/plain": [
              "<Figure size 1080x360 with 1 Axes>"
            ],
            "image/png": "[encoded data removed]"
          },
          "metadata": {
            "needs_background": "light"
          }
        }
      ]
    },
    {
      "cell_type": "code",
      "source": [
        "# Making an array of all points\n",
        "points = np.array([(x, y) for x, y in zip(seq_x, seq_y)])\n",
        "\n",
        "# Making an array od euclidean distances\n",
        "dists = np.array([np.linalg.norm(np.subtract(points[i], points[i-1])) for i in range(1, len(points))])"
      ],
      "metadata": {
        "id": "z6E4vFRZTUwG"
      },
      "execution_count": 17,
      "outputs": []
    },
    {
      "cell_type": "code",
      "source": [
        "# Making an array od euclidean distances\n",
        "fig = plt.figure(figsize = (16, 6))\n",
        "ax = plt.plot(N, dists)\n",
        "plt.grid()\n",
        "plt.xlabel(\"N\")\n",
        "plt.ylabel(\"x_next – x_prev\")"
      ],
      "metadata": {
        "colab": {
          "base_uri": "https://localhost:8080/",
          "height": 407
        },
        "id": "gR1nqbbFUyEm",
        "outputId": "6d47ef13-fc92-4c49-bc59-4d0810094e47"
      },
      "execution_count": 18,
      "outputs": [
        {
          "output_type": "execute_result",
          "data": {
            "text/plain": [
              "Text(0, 0.5, 'x_next – x_prev')"
            ]
          },
          "metadata": {},
          "execution_count": 18
        },
        {
          "output_type": "display_data",
          "data": {
            "text/plain": [
              "<Figure size 1152x432 with 1 Axes>"
            ],
            "image/png": "[encoded data removed]"
          },
          "metadata": {
            "needs_background": "light"
          }
        }
      ]
    },
    {
      "cell_type": "markdown",
      "source": [
        "## Adam"
      ],
      "metadata": {
        "id": "VH1l8kyKpy2X"
      }
    },
    {
      "cell_type": "code",
      "source": [
        "# Making an array of all points\n",
        "points = np.array([(x, y) for x, y in zip(seq_x_A, seq_y_A)])\n",
        "\n",
        "# Making an array od euclidean distances\n",
        "dists = np.array([np.linalg.norm(np.subtract(points[i], points[i-1])) for i in range(1, len(points))])"
      ],
      "metadata": {
        "id": "xzRSvjP2lmoY"
      },
      "execution_count": 45,
      "outputs": []
    },
    {
      "cell_type": "code",
      "source": [
        "# Making an array od euclidean distances\n",
        "fig = plt.figure(figsize = (16, 6))\n",
        "\n",
        "N = np.arange(1, num_iters_A, 1)\n",
        "ax = plt.plot(N, dists)\n",
        "plt.grid()\n",
        "plt.xlabel(\"N\")\n",
        "plt.ylabel(\"x_next – x_prev\")"
      ],
      "metadata": {
        "colab": {
          "base_uri": "https://localhost:8080/",
          "height": 406
        },
        "id": "gwYBHBQ3J07s",
        "outputId": "521d1b34-cefd-415a-c2f6-d0323a162ada"
      },
      "execution_count": 46,
      "outputs": [
        {
          "output_type": "execute_result",
          "data": {
            "text/plain": [
              "Text(0, 0.5, 'x_next – x_prev')"
            ]
          },
          "metadata": {},
          "execution_count": 46
        },
        {
          "output_type": "display_data",
          "data": {
            "text/plain": [
              "<Figure size 1152x432 with 1 Axes>"
            ],
            "image/png": "[encoded data removed]"
          },
          "metadata": {
            "needs_background": "light"
          }
        }
      ]
    }
  ]
}