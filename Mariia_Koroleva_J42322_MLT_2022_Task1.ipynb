{
  "nbformat": 4,
  "nbformat_minor": 0,
  "metadata": {
    "colab": {
      "name": "Mariia_Koroleva_J42322_MLT_2022_Task1.ipynb",
      "provenance": [],
      "collapsed_sections": []
    },
    "kernelspec": {
      "name": "python3",
      "display_name": "Python 3"
    },
    "language_info": {
      "name": "python"
    }
  },
  "cells": [
    {
      "cell_type": "markdown",
      "source": [
        "**Lab1**\n",
        "1. Train 4 different classifiers using sklearn library to predict \"Activity\" (biological response of the molecule) field from the \"bioresponse.csv\" dataset:\n",
        "- small decision tree;\n",
        "- deep decision tree;\n",
        "- random forest on small trees;\n",
        "- random forest on deep trees;\n",
        "2. Calculate the following metrics to check the quality of your models:\n",
        "- precision;\n",
        "- recall;\n",
        "- accuracy;\n",
        "- F1-score;\n",
        "- log-loss;\n",
        "3. Plot precision-recall and ROC curves for your models.\n",
        "4. Train a classifier who avoids Type II (False Negative) errors and calculate metrics  from p.2 for it.\n"
      ],
      "metadata": {
        "id": "SE7Dbya3Td_r"
      }
    },
    {
      "cell_type": "code",
      "execution_count": null,
      "metadata": {
        "id": "WqpFd2aAi1a-"
      },
      "outputs": [],
      "source": [
        "//\n",
        "import pandas as pd\n",
        "\n",
        "from sklearn.preprocessing import StandardScaler\n",
        "from sklearn.model_selection import train_test_split\n",
        "from sklearn import tree\n",
        "from sklearn.ensemble import RandomForestClassifier\n",
        "from sklearn.metrics import precision_score, recall_score, accuracy_score, f1_score, log_loss, precision_recall_curve, roc_curve, roc_auc_score\n",
        "from matplotlib import pyplot as plt\n",
        "import seaborn"
      ]
    },
    {
      "cell_type": "code",
      "source": [
        "from google.colab import drive\n",
        "drive.mount('/content/drive/')"
      ],
      "metadata": {
        "colab": {
          "base_uri": "https://localhost:8080/"
        },
        "id": "oeZp0hovRGm4",
        "outputId": "d8ff4c67-4d17-427a-9466-ee47c57cf7a9"
      },
      "execution_count": null,
      "outputs": [
        {
          "output_type": "stream",
          "name": "stdout",
          "text": [
            "Mounted at /content/drive/\n"
          ]
        }
      ]
    },
    {
      "cell_type": "markdown",
      "source": [
        "# Preprocessing"
      ],
      "metadata": {
        "id": "qY59wQogPhpp"
      }
    },
    {
      "cell_type": "code",
      "source": [
        "# reading csv file\n",
        "\n",
        "df = pd.read_csv('/content/drive/MyDrive/Studies/Data for labs/bioresponse.csv')"
      ],
      "metadata": {
        "id": "BgjhLsYIPmz_"
      },
      "execution_count": null,
      "outputs": []
    },
    {
      "cell_type": "code",
      "source": [
        "df.head()"
      ],
      "metadata": {
        "colab": {
          "base_uri": "https://localhost:8080/",
          "height": 236
        },
        "id": "2SY1bfbfSoge",
        "outputId": "0ca26406-16d7-476b-fdfa-ddd59b161122"
      },
      "execution_count": null,
      "outputs": [
        {
          "output_type": "execute_result",
          "data": {
            "text/plain": [
              "   Activity        D1        D2    D3   D4        D5        D6        D7  \\\n",
              "0         1  0.000000  0.497009  0.10  0.0  0.132956  0.678031  0.273166   \n",
              "1         1  0.366667  0.606291  0.05  0.0  0.111209  0.803455  0.106105   \n",
              "2         1  0.033300  0.480124  0.00  0.0  0.209791  0.610350  0.356453   \n",
              "3         1  0.000000  0.538825  0.00  0.5  0.196344  0.724230  0.235606   \n",
              "4         0  0.100000  0.517794  0.00  0.0  0.494734  0.781422  0.154361   \n",
              "\n",
              "         D8        D9  ...  D1767  D1768  D1769  D1770  D1771  D1772  D1773  \\\n",
              "0  0.585445  0.743663  ...      0      0      0      0      0      0      0   \n",
              "1  0.411754  0.836582  ...      1      1      1      1      0      1      0   \n",
              "2  0.517720  0.679051  ...      0      0      0      0      0      0      0   \n",
              "3  0.288764  0.805110  ...      0      0      0      0      0      0      0   \n",
              "4  0.303809  0.812646  ...      0      0      0      0      0      0      0   \n",
              "\n",
              "   D1774  D1775  D1776  \n",
              "0      0      0      0  \n",
              "1      0      1      0  \n",
              "2      0      0      0  \n",
              "3      0      0      0  \n",
              "4      0      0      0  \n",
              "\n",
              "[5 rows x 1777 columns]"
            ],
            "text/html": [
              "\n",
              "  <div id=\"df-dbc18300-f5e8-4283-a36a-c6a1c2ecf78e\">\n",
              "    <div class=\"colab-df-container\">\n",
              "      <div>\n",
              "<style scoped>\n",
              "    .dataframe tbody tr th:only-of-type {\n",
              "        vertical-align: middle;\n",
              "    }\n",
              "\n",
              "    .dataframe tbody tr th {\n",
              "        vertical-align: top;\n",
              "    }\n",
              "\n",
              "    .dataframe thead th {\n",
              "        text-align: right;\n",
              "    }\n",
              "</style>\n",
              "<table border=\"1\" class=\"dataframe\">\n",
              "  <thead>\n",
              "    <tr style=\"text-align: right;\">\n",
              "      <th></th>\n",
              "      <th>Activity</th>\n",
              "      <th>D1</th>\n",
              "      <th>D2</th>\n",
              "      <th>D3</th>\n",
              "      <th>D4</th>\n",
              "      <th>D5</th>\n",
              "      <th>D6</th>\n",
              "      <th>D7</th>\n",
              "      <th>D8</th>\n",
              "      <th>D9</th>\n",
              "      <th>...</th>\n",
              "      <th>D1767</th>\n",
              "      <th>D1768</th>\n",
              "      <th>D1769</th>\n",
              "      <th>D1770</th>\n",
              "      <th>D1771</th>\n",
              "      <th>D1772</th>\n",
              "      <th>D1773</th>\n",
              "      <th>D1774</th>\n",
              "      <th>D1775</th>\n",
              "      <th>D1776</th>\n",
              "    </tr>\n",
              "  </thead>\n",
              "  <tbody>\n",
              "    <tr>\n",
              "      <th>0</th>\n",
              "      <td>1</td>\n",
              "      <td>0.000000</td>\n",
              "      <td>0.497009</td>\n",
              "      <td>0.10</td>\n",
              "      <td>0.0</td>\n",
              "      <td>0.132956</td>\n",
              "      <td>0.678031</td>\n",
              "      <td>0.273166</td>\n",
              "      <td>0.585445</td>\n",
              "      <td>0.743663</td>\n",
              "      <td>...</td>\n",
              "      <td>0</td>\n",
              "      <td>0</td>\n",
              "      <td>0</td>\n",
              "      <td>0</td>\n",
              "      <td>0</td>\n",
              "      <td>0</td>\n",
              "      <td>0</td>\n",
              "      <td>0</td>\n",
              "      <td>0</td>\n",
              "      <td>0</td>\n",
              "    </tr>\n",
              "    <tr>\n",
              "      <th>1</th>\n",
              "      <td>1</td>\n",
              "      <td>0.366667</td>\n",
              "      <td>0.606291</td>\n",
              "      <td>0.05</td>\n",
              "      <td>0.0</td>\n",
              "      <td>0.111209</td>\n",
              "      <td>0.803455</td>\n",
              "      <td>0.106105</td>\n",
              "      <td>0.411754</td>\n",
              "      <td>0.836582</td>\n",
              "      <td>...</td>\n",
              "      <td>1</td>\n",
              "      <td>1</td>\n",
              "      <td>1</td>\n",
              "      <td>1</td>\n",
              "      <td>0</td>\n",
              "      <td>1</td>\n",
              "      <td>0</td>\n",
              "      <td>0</td>\n",
              "      <td>1</td>\n",
              "      <td>0</td>\n",
              "    </tr>\n",
              "    <tr>\n",
              "      <th>2</th>\n",
              "      <td>1</td>\n",
              "      <td>0.033300</td>\n",
              "      <td>0.480124</td>\n",
              "      <td>0.00</td>\n",
              "      <td>0.0</td>\n",
              "      <td>0.209791</td>\n",
              "      <td>0.610350</td>\n",
              "      <td>0.356453</td>\n",
              "      <td>0.517720</td>\n",
              "      <td>0.679051</td>\n",
              "      <td>...</td>\n",
              "      <td>0</td>\n",
              "      <td>0</td>\n",
              "      <td>0</td>\n",
              "      <td>0</td>\n",
              "      <td>0</td>\n",
              "      <td>0</td>\n",
              "      <td>0</td>\n",
              "      <td>0</td>\n",
              "      <td>0</td>\n",
              "      <td>0</td>\n",
              "    </tr>\n",
              "    <tr>\n",
              "      <th>3</th>\n",
              "      <td>1</td>\n",
              "      <td>0.000000</td>\n",
              "      <td>0.538825</td>\n",
              "      <td>0.00</td>\n",
              "      <td>0.5</td>\n",
              "      <td>0.196344</td>\n",
              "      <td>0.724230</td>\n",
              "      <td>0.235606</td>\n",
              "      <td>0.288764</td>\n",
              "      <td>0.805110</td>\n",
              "      <td>...</td>\n",
              "      <td>0</td>\n",
              "      <td>0</td>\n",
              "      <td>0</td>\n",
              "      <td>0</td>\n",
              "      <td>0</td>\n",
              "      <td>0</td>\n",
              "      <td>0</td>\n",
              "      <td>0</td>\n",
              "      <td>0</td>\n",
              "      <td>0</td>\n",
              "    </tr>\n",
              "    <tr>\n",
              "      <th>4</th>\n",
              "      <td>0</td>\n",
              "      <td>0.100000</td>\n",
              "      <td>0.517794</td>\n",
              "      <td>0.00</td>\n",
              "      <td>0.0</td>\n",
              "      <td>0.494734</td>\n",
              "      <td>0.781422</td>\n",
              "      <td>0.154361</td>\n",
              "      <td>0.303809</td>\n",
              "      <td>0.812646</td>\n",
              "      <td>...</td>\n",
              "      <td>0</td>\n",
              "      <td>0</td>\n",
              "      <td>0</td>\n",
              "      <td>0</td>\n",
              "      <td>0</td>\n",
              "      <td>0</td>\n",
              "      <td>0</td>\n",
              "      <td>0</td>\n",
              "      <td>0</td>\n",
              "      <td>0</td>\n",
              "    </tr>\n",
              "  </tbody>\n",
              "</table>\n",
              "<p>5 rows × 1777 columns</p>\n",
              "</div>\n",
              "      <button class=\"colab-df-convert\" onclick=\"convertToInteractive('df-dbc18300-f5e8-4283-a36a-c6a1c2ecf78e')\"\n",
              "              title=\"Convert this dataframe to an interactive table.\"\n",
              "              style=\"display:none;\">\n",
              "        \n",
              "  <svg xmlns=\"http://www.w3.org/2000/svg\" height=\"24px\"viewBox=\"0 0 24 24\"\n",
              "       width=\"24px\">\n",
              "    <path d=\"M0 0h24v24H0V0z\" fill=\"none\"/>\n",
              "    <path d=\"M18.56 5.44l.94 2.06.94-2.06 2.06-.94-2.06-.94-.94-2.06-.94 2.06-2.06.94zm-11 1L8.5 8.5l.94-2.06 2.06-.94-2.06-.94L8.5 2.5l-.94 2.06-2.06.94zm10 10l.94 2.06.94-2.06 2.06-.94-2.06-.94-.94-2.06-.94 2.06-2.06.94z\"/><path d=\"M17.41 7.96l-1.37-1.37c-.4-.4-.92-.59-1.43-.59-.52 0-1.04.2-1.43.59L10.3 9.45l-7.72 7.72c-.78.78-.78 2.05 0 2.83L4 21.41c.39.39.9.59 1.41.59.51 0 1.02-.2 1.41-.59l7.78-7.78 2.81-2.81c.8-.78.8-2.07 0-2.86zM5.41 20L4 18.59l7.72-7.72 1.47 1.35L5.41 20z\"/>\n",
              "  </svg>\n",
              "      </button>\n",
              "      \n",
              "  <style>\n",
              "    .colab-df-container {\n",
              "      display:flex;\n",
              "      flex-wrap:wrap;\n",
              "      gap: 12px;\n",
              "    }\n",
              "\n",
              "    .colab-df-convert {\n",
              "      background-color: #E8F0FE;\n",
              "      border: none;\n",
              "      border-radius: 50%;\n",
              "      cursor: pointer;\n",
              "      display: none;\n",
              "      fill: #1967D2;\n",
              "      height: 32px;\n",
              "      padding: 0 0 0 0;\n",
              "      width: 32px;\n",
              "    }\n",
              "\n",
              "    .colab-df-convert:hover {\n",
              "      background-color: #E2EBFA;\n",
              "      box-shadow: 0px 1px 2px rgba(60, 64, 67, 0.3), 0px 1px 3px 1px rgba(60, 64, 67, 0.15);\n",
              "      fill: #174EA6;\n",
              "    }\n",
              "\n",
              "    [theme=dark] .colab-df-convert {\n",
              "      background-color: #3B4455;\n",
              "      fill: #D2E3FC;\n",
              "    }\n",
              "\n",
              "    [theme=dark] .colab-df-convert:hover {\n",
              "      background-color: #434B5C;\n",
              "      box-shadow: 0px 1px 3px 1px rgba(0, 0, 0, 0.15);\n",
              "      filter: drop-shadow(0px 1px 2px rgba(0, 0, 0, 0.3));\n",
              "      fill: #FFFFFF;\n",
              "    }\n",
              "  </style>\n",
              "\n",
              "      <script>\n",
              "        const buttonEl =\n",
              "          document.querySelector('#df-dbc18300-f5e8-4283-a36a-c6a1c2ecf78e button.colab-df-convert');\n",
              "        buttonEl.style.display =\n",
              "          google.colab.kernel.accessAllowed ? 'block' : 'none';\n",
              "\n",
              "        async function convertToInteractive(key) {\n",
              "          const element = document.querySelector('#df-dbc18300-f5e8-4283-a36a-c6a1c2ecf78e');\n",
              "          const dataTable =\n",
              "            await google.colab.kernel.invokeFunction('convertToInteractive',\n",
              "                                                     [key], {});\n",
              "          if (!dataTable) return;\n",
              "\n",
              "          const docLinkHtml = 'Like what you see? Visit the ' +\n",
              "            '<a target=\"_blank\" href=https://colab.research.google.com/notebooks/data_table.ipynb>data table notebook</a>'\n",
              "            + ' to learn more about interactive tables.';\n",
              "          element.innerHTML = '';\n",
              "          dataTable['output_type'] = 'display_data';\n",
              "          await google.colab.output.renderOutput(dataTable, element);\n",
              "          const docLink = document.createElement('div');\n",
              "          docLink.innerHTML = docLinkHtml;\n",
              "          element.appendChild(docLink);\n",
              "        }\n",
              "      </script>\n",
              "    </div>\n",
              "  </div>\n",
              "  "
            ]
          },
          "metadata": {},
          "execution_count": 6
        }
      ]
    },
    {
      "cell_type": "markdown",
      "source": [
        "We are predicting the Activity"
      ],
      "metadata": {
        "id": "OPx_XEUBTXQp"
      }
    },
    {
      "cell_type": "code",
      "source": [
        "# Choosing the target variable\n",
        "y = df['Activity'].values\n",
        "X_init = df.drop(['Activity'], axis =1)"
      ],
      "metadata": {
        "id": "WJ7JScxHUBtn"
      },
      "execution_count": null,
      "outputs": []
    },
    {
      "cell_type": "code",
      "source": [
        "# Scaling the data\n",
        "scaler = StandardScaler()\n",
        "X = scaler.fit_transform(X_init)"
      ],
      "metadata": {
        "id": "mwp39g4UTVe7"
      },
      "execution_count": null,
      "outputs": []
    },
    {
      "cell_type": "code",
      "source": [
        "# Creating Train and Test samples\n",
        "X_train, X_test, y_train, y_test = train_test_split(X, y, test_size = 0.3, random_state = 42)"
      ],
      "metadata": {
        "id": "71BPgjpfU6Yw"
      },
      "execution_count": null,
      "outputs": []
    },
    {
      "cell_type": "markdown",
      "source": [
        "# Small decision tree"
      ],
      "metadata": {
        "id": "2jxKFD1GPk7e"
      }
    },
    {
      "cell_type": "markdown",
      "source": [
        "## Training"
      ],
      "metadata": {
        "id": "DwYZ_6MRQJDJ"
      }
    },
    {
      "cell_type": "code",
      "source": [
        "# training a shallow tree, i.e. with a max_depth = 2\n",
        "model_1 = tree.DecisionTreeClassifier(random_state = 42, max_depth = 2)\n",
        "model_1.fit(X_train, y_train)"
      ],
      "metadata": {
        "colab": {
          "base_uri": "https://localhost:8080/"
        },
        "id": "Q1VJbttjO-al",
        "outputId": "88d7187b-3fe9-4eca-89b6-62f98ae7a611"
      },
      "execution_count": null,
      "outputs": [
        {
          "output_type": "execute_result",
          "data": {
            "text/plain": [
              "DecisionTreeClassifier(max_depth=2, random_state=42)"
            ]
          },
          "metadata": {},
          "execution_count": 10
        }
      ]
    },
    {
      "cell_type": "code",
      "source": [
        "#saving the predictions and their probabilities\n",
        "predictions_1 = model_1.predict(X_test)\n",
        "probabilities_1 = model_1.predict_proba(X_test)"
      ],
      "metadata": {
        "id": "R4_FYCpTP8fs"
      },
      "execution_count": null,
      "outputs": []
    },
    {
      "cell_type": "markdown",
      "source": [
        "## Metrics"
      ],
      "metadata": {
        "id": "m9E-b29uQMFu"
      }
    },
    {
      "cell_type": "code",
      "source": [
        "# Calculating the metrics\n",
        "precision_1 = precision_score(y_test, predictions_1)\n",
        "recall_1 = recall_score(y_test, predictions_1)\n",
        "accuracy_1 = accuracy_score(y_test, predictions_1)\n",
        "f1_score_1 = f1_score(y_test, predictions_1)\n",
        "logloss_1 = log_loss(y_test, predictions_1)"
      ],
      "metadata": {
        "id": "nA_NZ_GvQQIS"
      },
      "execution_count": null,
      "outputs": []
    },
    {
      "cell_type": "code",
      "source": [
        "# Calculation output\n",
        "print(\"Precision = \", precision_1)\n",
        "print(\"Recall  = \", recall_1)\n",
        "print('Accuracy = ', accuracy_1)\n",
        "print(\"F1 score = \", f1_score_1)\n",
        "print(\"Log-loss = \", logloss_1)"
      ],
      "metadata": {
        "colab": {
          "base_uri": "https://localhost:8080/"
        },
        "id": "2-YaL1IwR5wL",
        "outputId": "7706dd6c-a5f3-4eaa-f806-4bc0d633ad2c"
      },
      "execution_count": null,
      "outputs": [
        {
          "output_type": "stream",
          "name": "stdout",
          "text": [
            "Precision =  0.7866449511400652\n",
            "Recall  =  0.7654516640253566\n",
            "Accuracy =  0.7522202486678508\n",
            "F1 score =  0.7759036144578313\n",
            "Log-loss =  8.558102452436444\n"
          ]
        }
      ]
    },
    {
      "cell_type": "markdown",
      "source": [
        "# Plotting"
      ],
      "metadata": {
        "id": "1tluW3-YbBiH"
      }
    },
    {
      "cell_type": "code",
      "source": [
        "# Precision-recall curve\n",
        "prec, rec, thresh = precision_recall_curve(y_test, probabilities_1[:,1])\n",
        "\n",
        "ax = plt.figure(figsize = (10, 10))\n",
        "plt.plot(thresh, prec[:-1], label = 'precision')\n",
        "plt.plot(thresh, rec[:-1], label = 'recall')\n",
        "plt.grid()\n",
        "plt.xlabel(\"threshold\")\n",
        "plt.title('Precision-recall curve')\n",
        "plt.legend()"
      ],
      "metadata": {
        "colab": {
          "base_uri": "https://localhost:8080/",
          "height": 639
        },
        "id": "AFmCuniNbEao",
        "outputId": "1f2fa5d2-d256-4183-8f5e-1dcc94a1435d"
      },
      "execution_count": null,
      "outputs": [
        {
          "output_type": "execute_result",
          "data": {
            "text/plain": [
              "<matplotlib.legend.Legend at 0x7fd8c25b2110>"
            ]
          },
          "metadata": {},
          "execution_count": 14
        },
        {
          "output_type": "display_data",
          "data": {
            "text/plain": [
              "<Figure size 720x720 with 1 Axes>"
            ],
            "image/png": "[encoded data removed]"
          },
          "metadata": {
            "needs_background": "light"
          }
        }
      ]
    },
    {
      "cell_type": "code",
      "source": [
        "# ROC curve\n",
        "\n",
        "fpr, tpr, thr = roc_curve(y_test, probabilities_1[:,1])\n",
        "roc_auc = roc_auc_score(y_test, predictions_1)\n",
        "\n",
        "plt.figure(figsize = (10, 10))\n",
        "plt.plot(fpr, tpr, label = 'ROC\\n' + 'ROC AUC = ' + str(round(roc_auc, 2)))\n",
        "plt.grid()\n",
        "plt.xlabel('FP')\n",
        "plt.ylabel('TP')\n",
        "plt.title('ROC curve')\n",
        "plt.legend()"
      ],
      "metadata": {
        "colab": {
          "base_uri": "https://localhost:8080/",
          "height": 639
        },
        "id": "gJMLvatQhv90",
        "outputId": "eb2d159f-2216-48ad-9000-2bebbdf0e421"
      },
      "execution_count": null,
      "outputs": [
        {
          "output_type": "execute_result",
          "data": {
            "text/plain": [
              "<matplotlib.legend.Legend at 0x7fd8c2546e50>"
            ]
          },
          "metadata": {},
          "execution_count": 22
        },
        {
          "output_type": "display_data",
          "data": {
            "text/plain": [
              "<Figure size 720x720 with 1 Axes>"
            ],
            "image/png": "[encoded data removed]"
          },
          "metadata": {
            "needs_background": "light"
          }
        }
      ]
    },
    {
      "cell_type": "markdown",
      "source": [
        "## Avoiding Type II errors"
      ],
      "metadata": {
        "id": "UG74tLFuLQeS"
      }
    },
    {
      "cell_type": "code",
      "source": [
        "def classifier(actual, predicted):\n",
        "  '''\n",
        "  avoids FN\n",
        "  returns 2 arrays of actual and predicted Y without FN results\n",
        "  '''\n",
        "  result1 = []\n",
        "  result2 = []\n",
        "  for a, b in zip(actual, predicted):\n",
        "    if a == 1:\n",
        "      if b == 1:\n",
        "        result1.append(a)\n",
        "        result2.append(b)\n",
        "    else:\n",
        "        result1.append(a)\n",
        "        result2.append(b)\n",
        "\n",
        "  return result1, result2"
      ],
      "metadata": {
        "id": "3uQSwRfBLXYm"
      },
      "execution_count": null,
      "outputs": []
    },
    {
      "cell_type": "code",
      "source": [
        "#Cleaning from FN results\n",
        "y_act, y_pred = classifier(y_test, predictions_1)"
      ],
      "metadata": {
        "id": "G_T7C8bBNuWl"
      },
      "execution_count": null,
      "outputs": []
    },
    {
      "cell_type": "code",
      "source": [
        "#Calculating the metrics after the changes again\n",
        "\n",
        "precision_new = precision_score(y_act, y_pred)\n",
        "recall_new = recall_score(y_act, y_pred)\n",
        "accuracy_new = accuracy_score(y_act, y_pred)\n",
        "f1_score_new = f1_score(y_act, y_pred)\n",
        "logloss_new = log_loss(y_act, y_pred)"
      ],
      "metadata": {
        "id": "SXX_4cL8N_9v"
      },
      "execution_count": null,
      "outputs": []
    },
    {
      "cell_type": "code",
      "source": [
        "print(\"Precision = \", precision_new)\n",
        "print(\"Recall  = \", recall_new)\n",
        "print('Accuracy = ', accuracy_new)\n",
        "print(\"F1 score = \", f1_score_new)\n",
        "print(\"Log-loss = \", logloss_new)"
      ],
      "metadata": {
        "colab": {
          "base_uri": "https://localhost:8080/"
        },
        "outputId": "a5e5e809-7050-46f1-87a1-a3fb9dd67b07",
        "id": "WCOBcZK0N_9w"
      },
      "execution_count": null,
      "outputs": [
        {
          "output_type": "stream",
          "name": "stdout",
          "text": [
            "Precision =  0.7866449511400652\n",
            "Recall  =  1.0\n",
            "Accuracy =  0.8660531697341514\n",
            "F1 score =  0.8805834092980857\n",
            "Log-loss =  4.6264667229004655\n"
          ]
        }
      ]
    },
    {
      "cell_type": "markdown",
      "source": [
        "# Deep decision tree"
      ],
      "metadata": {
        "id": "PwGR5U-uX9R7"
      }
    },
    {
      "cell_type": "markdown",
      "source": [
        "## Training"
      ],
      "metadata": {
        "id": "g4RO6FZPYBM7"
      }
    },
    {
      "cell_type": "code",
      "source": [
        "model_2 = tree.DecisionTreeClassifier(random_state = 42, max_depth = 10)\n",
        "model_2.fit(X_train, y_train)"
      ],
      "metadata": {
        "colab": {
          "base_uri": "https://localhost:8080/"
        },
        "id": "zo_zpGfHYA6Q",
        "outputId": "5648b9d7-4bbc-4f34-940b-33fb7e251bc4"
      },
      "execution_count": null,
      "outputs": [
        {
          "output_type": "execute_result",
          "data": {
            "text/plain": [
              "DecisionTreeClassifier(max_depth=10, random_state=42)"
            ]
          },
          "metadata": {},
          "execution_count": 16
        }
      ]
    },
    {
      "cell_type": "code",
      "source": [
        "predictions_2 = model_2.predict(X_test)\n",
        "probabilities_2 = model_2.predict_proba(X_test)"
      ],
      "metadata": {
        "id": "MBcgjpwmX_6c"
      },
      "execution_count": null,
      "outputs": []
    },
    {
      "cell_type": "markdown",
      "source": [
        "## Metrics"
      ],
      "metadata": {
        "id": "gtfXtT7jYgh_"
      }
    },
    {
      "cell_type": "code",
      "source": [
        "precision_2 = precision_score(y_test, predictions_2)\n",
        "recall_2 = recall_score(y_test, predictions_2)\n",
        "accuracy_2 = accuracy_score(y_test, predictions_2)\n",
        "f1_score_2 = f1_score(y_test, predictions_2)\n",
        "logloss_2 = log_loss(y_test, predictions_2)"
      ],
      "metadata": {
        "id": "VjwDxEBXYiRk"
      },
      "execution_count": null,
      "outputs": []
    },
    {
      "cell_type": "code",
      "source": [
        "print(\"Precision = \", precision_2)\n",
        "print(\"Recall  = \", recall_2)\n",
        "print('Accuracy = ', accuracy_2)\n",
        "print(\"F1 score = \", f1_score_2)\n",
        "print(\"Log-loss = \", logloss_2)"
      ],
      "metadata": {
        "colab": {
          "base_uri": "https://localhost:8080/"
        },
        "id": "zS5uffEhZDjf",
        "outputId": "b75511c5-19d2-40a6-f2b2-d4635bfb6bd6"
      },
      "execution_count": null,
      "outputs": [
        {
          "output_type": "stream",
          "name": "stdout",
          "text": [
            "Precision =  0.7692307692307693\n",
            "Recall  =  0.7606973058637084\n",
            "Accuracy =  0.7380106571936057\n",
            "F1 score =  0.7649402390438248\n",
            "Log-loss =  9.048893586615097\n"
          ]
        }
      ]
    },
    {
      "cell_type": "markdown",
      "source": [
        "# Plotting"
      ],
      "metadata": {
        "id": "sO7O1u4mhOPb"
      }
    },
    {
      "cell_type": "code",
      "source": [
        "# Precision-recall curve\n",
        "prec, rec, thresh = precision_recall_curve(y_test, probabilities_2[:, 1])\n",
        "\n",
        "ax = plt.figure(figsize = (10, 10))\n",
        "plt.plot(thresh, prec[:-1], label = 'precision')\n",
        "plt.plot(thresh, rec[:-1], label = 'recall')\n",
        "plt.grid()\n",
        "plt.xlabel(\"threshold\")\n",
        "plt.title('Precision-recall curve')\n",
        "plt.legend()"
      ],
      "metadata": {
        "colab": {
          "base_uri": "https://localhost:8080/",
          "height": 639
        },
        "outputId": "2f80a865-b041-416c-8953-89e2c8a00a11",
        "id": "bYHUXqKehOPe"
      },
      "execution_count": null,
      "outputs": [
        {
          "output_type": "execute_result",
          "data": {
            "text/plain": [
              "<matplotlib.legend.Legend at 0x7fd8c25527d0>"
            ]
          },
          "metadata": {},
          "execution_count": 20
        },
        {
          "output_type": "display_data",
          "data": {
            "text/plain": [
              "<Figure size 720x720 with 1 Axes>"
            ],
            "image/png": "[encoded data removed]"
          },
          "metadata": {
            "needs_background": "light"
          }
        }
      ]
    },
    {
      "cell_type": "code",
      "source": [
        "# ROC curve\n",
        "\n",
        "fpr, tpr, thr = roc_curve(y_test, probabilities_2[:, 1])\n",
        "roc_auc = roc_auc_score(y_test, predictions_2)\n",
        "\n",
        "plt.figure(figsize = (10, 10))\n",
        "plt.plot(fpr, tpr, label = 'ROC\\n' + 'ROC AUC = ' + str(round(roc_auc, 2)))\n",
        "plt.grid()\n",
        "plt.xlabel('FP')\n",
        "plt.ylabel('TP')\n",
        "plt.title('ROC curve')\n",
        "plt.legend()"
      ],
      "metadata": {
        "colab": {
          "base_uri": "https://localhost:8080/",
          "height": 639
        },
        "outputId": "9613fdae-9f37-4c82-caa6-c3fd60810dd7",
        "id": "YLxhmFSmi83X"
      },
      "execution_count": null,
      "outputs": [
        {
          "output_type": "execute_result",
          "data": {
            "text/plain": [
              "<matplotlib.legend.Legend at 0x7fd8c1e74910>"
            ]
          },
          "metadata": {},
          "execution_count": 24
        },
        {
          "output_type": "display_data",
          "data": {
            "text/plain": [
              "<Figure size 720x720 with 1 Axes>"
            ],
            "image/png": "[encoded data removed]"
          },
          "metadata": {
            "needs_background": "light"
          }
        }
      ]
    },
    {
      "cell_type": "markdown",
      "source": [
        "## Avoiding Type II errors"
      ],
      "metadata": {
        "id": "WzogcC7rOl5w"
      }
    },
    {
      "cell_type": "code",
      "source": [
        "y_act, y_pred = classifier(y_test, predictions_2)"
      ],
      "metadata": {
        "id": "QqQxjMapOl6A"
      },
      "execution_count": null,
      "outputs": []
    },
    {
      "cell_type": "code",
      "source": [
        "precision_new = precision_score(y_act, y_pred)\n",
        "recall_new = recall_score(y_act, y_pred)\n",
        "accuracy_new = accuracy_score(y_act, y_pred)\n",
        "f1_score_new = f1_score(y_act, y_pred)\n",
        "logloss_new = log_loss(y_act, y_pred)"
      ],
      "metadata": {
        "id": "tcYJL0NDOl6B"
      },
      "execution_count": null,
      "outputs": []
    },
    {
      "cell_type": "code",
      "source": [
        "print(\"Precision = \", precision_new)\n",
        "print(\"Recall  = \", recall_new)\n",
        "print('Accuracy = ', accuracy_new)\n",
        "print(\"F1 score = \", f1_score_new)\n",
        "print(\"Log-loss = \", logloss_new)"
      ],
      "metadata": {
        "colab": {
          "base_uri": "https://localhost:8080/"
        },
        "outputId": "c378fe4c-207f-445a-afcc-e8718f796e63",
        "id": "VWbMOCLpOl6B"
      },
      "execution_count": null,
      "outputs": [
        {
          "output_type": "stream",
          "name": "stdout",
          "text": [
            "Precision =  0.7692307692307693\n",
            "Recall  =  1.0\n",
            "Accuracy =  0.8523076923076923\n",
            "F1 score =  0.8695652173913044\n",
            "Log-loss =  5.101229685022654\n"
          ]
        }
      ]
    },
    {
      "cell_type": "markdown",
      "source": [
        "# Random forest on small trees"
      ],
      "metadata": {
        "id": "Mo1BRab-ZKty"
      }
    },
    {
      "cell_type": "markdown",
      "source": [
        "## Training"
      ],
      "metadata": {
        "id": "cmMc1f3dZRE_"
      }
    },
    {
      "cell_type": "code",
      "source": [
        "model_3 = RandomForestClassifier(n_estimators = 50, max_depth = 2, random_state = 42)\n",
        "model_3.fit(X_train, y_train)"
      ],
      "metadata": {
        "colab": {
          "base_uri": "https://localhost:8080/"
        },
        "id": "BgqxLTZbZk0F",
        "outputId": "8332c8c2-80a1-4a36-b568-f258429afc65"
      },
      "execution_count": null,
      "outputs": [
        {
          "output_type": "execute_result",
          "data": {
            "text/plain": [
              "RandomForestClassifier(max_depth=2, n_estimators=50, random_state=42)"
            ]
          },
          "metadata": {},
          "execution_count": 25
        }
      ]
    },
    {
      "cell_type": "code",
      "source": [
        "predictions_3 = model_3.predict(X_test)\n",
        "probabilities_3 = model_3.predict_proba(X_test)"
      ],
      "metadata": {
        "id": "GD4WpLiAaQLf"
      },
      "execution_count": null,
      "outputs": []
    },
    {
      "cell_type": "markdown",
      "source": [
        "## Metrics"
      ],
      "metadata": {
        "id": "JF22pSB5Zfl6"
      }
    },
    {
      "cell_type": "code",
      "source": [
        "precision_3 = precision_score(y_test, predictions_3)\n",
        "recall_3 = recall_score(y_test, predictions_3)\n",
        "accuracy_3 = accuracy_score(y_test, predictions_3)\n",
        "f1_score_3 = f1_score(y_test, predictions_3)\n",
        "logloss_3 = log_loss(y_test, predictions_3)"
      ],
      "metadata": {
        "id": "3xNZnS4Tafm8"
      },
      "execution_count": null,
      "outputs": []
    },
    {
      "cell_type": "code",
      "source": [
        "print(\"Precision = \", precision_3)\n",
        "print(\"Recall  = \", recall_3)\n",
        "print('Accuracy = ', accuracy_3)\n",
        "print(\"F1 score = \", f1_score_3)\n",
        "print(\"Log-loss = \", logloss_3)"
      ],
      "metadata": {
        "colab": {
          "base_uri": "https://localhost:8080/"
        },
        "id": "GMTm-Zknalf-",
        "outputId": "cf9663f7-2558-4e70-bf21-727250c838a8"
      },
      "execution_count": null,
      "outputs": [
        {
          "output_type": "stream",
          "name": "stdout",
          "text": [
            "Precision =  0.7204610951008645\n",
            "Recall  =  0.7923930269413629\n",
            "Accuracy =  0.7113676731793961\n",
            "F1 score =  0.7547169811320755\n",
            "Log-loss =  9.969145160077646\n"
          ]
        }
      ]
    },
    {
      "cell_type": "markdown",
      "source": [
        "# Plotting"
      ],
      "metadata": {
        "id": "LvDtT0uBhXnP"
      }
    },
    {
      "cell_type": "code",
      "source": [
        "# Precision-recall curve\n",
        "prec, rec, thresh = precision_recall_curve(y_test, probabilities_3[:, 1])\n",
        "\n",
        "ax = plt.figure(figsize = (10, 10))\n",
        "plt.plot(thresh, prec[:-1], label = 'precision')\n",
        "plt.plot(thresh, rec[:-1], label = 'recall')\n",
        "plt.grid()\n",
        "plt.xlabel(\"threshold\")\n",
        "plt.title('Precision-recall curve')\n",
        "plt.legend()"
      ],
      "metadata": {
        "colab": {
          "base_uri": "https://localhost:8080/",
          "height": 639
        },
        "outputId": "0e78d442-c8aa-4d1a-ff17-c88f9fd017b9",
        "id": "gKYclF5fhXnQ"
      },
      "execution_count": null,
      "outputs": [
        {
          "output_type": "execute_result",
          "data": {
            "text/plain": [
              "<matplotlib.legend.Legend at 0x7fd8c1daef50>"
            ]
          },
          "metadata": {},
          "execution_count": 28
        },
        {
          "output_type": "display_data",
          "data": {
            "text/plain": [
              "<Figure size 720x720 with 1 Axes>"
            ],
            "image/png": "[encoded data removed]"
          },
          "metadata": {
            "needs_background": "light"
          }
        }
      ]
    },
    {
      "cell_type": "code",
      "source": [
        "# ROC curve\n",
        "\n",
        "fpr, tpr, thr = roc_curve(y_test, probabilities_3[:, 1])\n",
        "roc_auc = roc_auc_score(y_test, predictions_3)\n",
        "\n",
        "plt.figure(figsize = (10, 10))\n",
        "plt.plot(fpr, tpr, label = 'ROC\\n' + 'ROC AUC = ' + str(round(roc_auc, 2)))\n",
        "plt.grid()\n",
        "plt.xlabel('FP')\n",
        "plt.ylabel('TP')\n",
        "plt.title('ROC curve')\n",
        "plt.legend()"
      ],
      "metadata": {
        "colab": {
          "base_uri": "https://localhost:8080/",
          "height": 639
        },
        "outputId": "48cdf863-4ab1-4210-ae36-d4449538d929",
        "id": "fXMSh_73jBCL"
      },
      "execution_count": null,
      "outputs": [
        {
          "output_type": "execute_result",
          "data": {
            "text/plain": [
              "<matplotlib.legend.Legend at 0x7fd8c1d02790>"
            ]
          },
          "metadata": {},
          "execution_count": 31
        },
        {
          "output_type": "display_data",
          "data": {
            "text/plain": [
              "<Figure size 720x720 with 1 Axes>"
            ],
            "image/png": "[encoded data removed]"
          },
          "metadata": {
            "needs_background": "light"
          }
        }
      ]
    },
    {
      "cell_type": "markdown",
      "source": [
        "## Avoiding Type II errors"
      ],
      "metadata": {
        "id": "cMKh4OgKOv-R"
      }
    },
    {
      "cell_type": "code",
      "source": [
        "y_act, y_pred = classifier(y_test, predictions_3)"
      ],
      "metadata": {
        "id": "i_ULsoWSOv-V"
      },
      "execution_count": null,
      "outputs": []
    },
    {
      "cell_type": "code",
      "source": [
        "precision_new = precision_score(y_act, y_pred)\n",
        "recall_new = recall_score(y_act, y_pred)\n",
        "accuracy_new = accuracy_score(y_act, y_pred)\n",
        "f1_score_new = f1_score(y_act, y_pred)\n",
        "logloss_new = log_loss(y_act, y_pred)"
      ],
      "metadata": {
        "id": "17_HTLdPOv-W"
      },
      "execution_count": null,
      "outputs": []
    },
    {
      "cell_type": "code",
      "source": [
        "print(\"Precision = \", precision_new)\n",
        "print(\"Recall  = \", recall_new)\n",
        "print('Accuracy = ', accuracy_new)\n",
        "print(\"F1 score = \", f1_score_new)\n",
        "print(\"Log-loss = \", logloss_new)"
      ],
      "metadata": {
        "colab": {
          "base_uri": "https://localhost:8080/"
        },
        "outputId": "b6a9d3a4-bb8e-4008-d49d-7b2ff617fb29",
        "id": "JU586B_iOv-W"
      },
      "execution_count": null,
      "outputs": [
        {
          "output_type": "stream",
          "name": "stdout",
          "text": [
            "Precision =  0.7204610951008645\n",
            "Recall  =  1.0\n",
            "Accuracy =  0.8050251256281407\n",
            "F1 score =  0.8375209380234506\n",
            "Log-loss =  6.73434948996395\n"
          ]
        }
      ]
    },
    {
      "cell_type": "markdown",
      "source": [
        "# Random forest on deep trees"
      ],
      "metadata": {
        "id": "7Kq99hhyZN6l"
      }
    },
    {
      "cell_type": "markdown",
      "source": [
        "## Training"
      ],
      "metadata": {
        "id": "comENv3dZdxw"
      }
    },
    {
      "cell_type": "code",
      "source": [
        "model_4 = RandomForestClassifier(n_estimators = 50, max_depth = 10, random_state = 42)\n",
        "model_4.fit(X_train, y_train)"
      ],
      "metadata": {
        "colab": {
          "base_uri": "https://localhost:8080/"
        },
        "outputId": "1a8e8906-eeea-490e-d266-3595f5f0acff",
        "id": "x8G6klQLaru3"
      },
      "execution_count": null,
      "outputs": [
        {
          "output_type": "execute_result",
          "data": {
            "text/plain": [
              "RandomForestClassifier(max_depth=10, n_estimators=50, random_state=42)"
            ]
          },
          "metadata": {},
          "execution_count": 32
        }
      ]
    },
    {
      "cell_type": "code",
      "source": [
        "predictions_4 = model_4.predict(X_test)\n",
        "probabilities_4 = model_4.predict_proba(X_test)"
      ],
      "metadata": {
        "id": "6lZKxzz4aru4"
      },
      "execution_count": null,
      "outputs": []
    },
    {
      "cell_type": "markdown",
      "source": [
        "## Metrics"
      ],
      "metadata": {
        "id": "lETZEG9rZiFk"
      }
    },
    {
      "cell_type": "code",
      "source": [
        "precision_4 = precision_score(y_test, predictions_4)\n",
        "recall_4 = recall_score(y_test, predictions_4)\n",
        "accuracy_4 = accuracy_score(y_test, predictions_4)\n",
        "f1_score_4 = f1_score(y_test, predictions_4)\n",
        "logloss_4 = log_loss(y_test, predictions_4)"
      ],
      "metadata": {
        "id": "gJBBdCvSayTV"
      },
      "execution_count": null,
      "outputs": []
    },
    {
      "cell_type": "code",
      "source": [
        "print(\"Precision = \", precision_4)\n",
        "print(\"Recall  = \", recall_4)\n",
        "print('Accuracy = ', accuracy_4)\n",
        "print(\"F1 score = \", f1_score_4)\n",
        "print(\"Log-loss = \", logloss_4)"
      ],
      "metadata": {
        "colab": {
          "base_uri": "https://localhost:8080/"
        },
        "outputId": "8fd56d9f-28b1-49c0-9334-42ebe0a165a5",
        "id": "CjHJaOuGayTX"
      },
      "execution_count": null,
      "outputs": [
        {
          "output_type": "stream",
          "name": "stdout",
          "text": [
            "Precision =  0.8108974358974359\n",
            "Recall  =  0.8019017432646592\n",
            "Accuracy =  0.7841918294849023\n",
            "F1 score =  0.8063745019920318\n",
            "Log-loss =  7.453833940017816\n"
          ]
        }
      ]
    },
    {
      "cell_type": "markdown",
      "source": [
        "# Plotting"
      ],
      "metadata": {
        "id": "HSK7PxYGhloV"
      }
    },
    {
      "cell_type": "code",
      "source": [
        "# Precision-recall curve\n",
        "prec, rec, thresh = precision_recall_curve(y_test, probabilities_4[:, 1])\n",
        "\n",
        "ax = plt.figure(figsize = (10, 10))\n",
        "plt.plot(thresh, prec[:-1], label = 'precision')\n",
        "plt.plot(thresh, rec[:-1], label = 'recall')\n",
        "plt.grid()\n",
        "plt.xlabel(\"threshold\")\n",
        "plt.title('Precision-recall curve')\n",
        "plt.legend()"
      ],
      "metadata": {
        "colab": {
          "base_uri": "https://localhost:8080/",
          "height": 639
        },
        "outputId": "568550dc-6c93-42ec-9d55-d1563c1b2838",
        "id": "BQBR1zzDhloV"
      },
      "execution_count": null,
      "outputs": [
        {
          "output_type": "execute_result",
          "data": {
            "text/plain": [
              "<matplotlib.legend.Legend at 0x7fd8c1ca4b90>"
            ]
          },
          "metadata": {},
          "execution_count": 36
        },
        {
          "output_type": "display_data",
          "data": {
            "text/plain": [
              "<Figure size 720x720 with 1 Axes>"
            ],
            "image/png": "[encoded data removed]"
          },
          "metadata": {
            "needs_background": "light"
          }
        }
      ]
    },
    {
      "cell_type": "code",
      "source": [
        "# ROC curve\n",
        "\n",
        "fpr, tpr, thr = roc_curve(y_test, probabilities_4[:, 1])\n",
        "roc_auc = roc_auc_score(y_test, predictions_4)\n",
        "\n",
        "plt.figure(figsize = (10, 10))\n",
        "plt.plot(fpr, tpr, label = 'ROC\\n' + 'ROC AUC = ' + str(round(roc_auc, 2)))\n",
        "plt.grid()\n",
        "plt.xlabel('FP')\n",
        "plt.ylabel('TP')\n",
        "plt.title('ROC curve')\n",
        "plt.legend()"
      ],
      "metadata": {
        "colab": {
          "base_uri": "https://localhost:8080/",
          "height": 639
        },
        "outputId": "dec07462-e974-4e43-f863-73331a6b8f8f",
        "id": "KOA-A-VxjE1-"
      },
      "execution_count": null,
      "outputs": [
        {
          "output_type": "execute_result",
          "data": {
            "text/plain": [
              "<matplotlib.legend.Legend at 0x7fd8c1b8a5d0>"
            ]
          },
          "metadata": {},
          "execution_count": 37
        },
        {
          "output_type": "display_data",
          "data": {
            "text/plain": [
              "<Figure size 720x720 with 1 Axes>"
            ],
            "image/png": "[encoded data removed]"
          },
          "metadata": {
            "needs_background": "light"
          }
        }
      ]
    },
    {
      "cell_type": "markdown",
      "source": [
        "## Avoiding Type II errors"
      ],
      "metadata": {
        "id": "CRsVMD-6OyzP"
      }
    },
    {
      "cell_type": "code",
      "source": [
        "y_act, y_pred = classifier(y_test, predictions_4)"
      ],
      "metadata": {
        "id": "2s5odLYLOyzP"
      },
      "execution_count": null,
      "outputs": []
    },
    {
      "cell_type": "code",
      "source": [
        "precision_new = precision_score(y_act, y_pred)\n",
        "recall_new = recall_score(y_act, y_pred)\n",
        "accuracy_new = accuracy_score(y_act, y_pred)\n",
        "f1_score_new = f1_score(y_act, y_pred)\n",
        "logloss_new = log_loss(y_act, y_pred)"
      ],
      "metadata": {
        "id": "qYdTDsN7OyzQ"
      },
      "execution_count": null,
      "outputs": []
    },
    {
      "cell_type": "code",
      "source": [
        "print(\"Precision = \", precision_new)\n",
        "print(\"Recall  = \", recall_new)\n",
        "print('Accuracy = ', accuracy_new)\n",
        "print(\"F1 score = \", f1_score_new)\n",
        "print(\"Log-loss = \", logloss_new)"
      ],
      "metadata": {
        "colab": {
          "base_uri": "https://localhost:8080/"
        },
        "outputId": "070dc59d-9642-4dba-8f09-bd1f706a47b9",
        "id": "2xKXSqZrOyzQ"
      },
      "execution_count": null,
      "outputs": [
        {
          "output_type": "stream",
          "name": "stdout",
          "text": [
            "Precision =  0.8108974358974359\n",
            "Recall  =  1.0\n",
            "Accuracy =  0.8821178821178821\n",
            "F1 score =  0.8955752212389381\n",
            "Log-loss =  4.071598368727497\n"
          ]
        }
      ]
    }
  ]
}